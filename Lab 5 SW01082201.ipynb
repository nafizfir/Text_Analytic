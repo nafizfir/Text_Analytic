{
 "cells": [
  {
   "cell_type": "markdown",
   "id": "ca14c04a-32ee-4374-922c-08b344905e5f",
   "metadata": {},
   "source": [
    "<h1> Bag Of Word Implementation </h1>"
   ]
  },
  {
   "cell_type": "code",
   "execution_count": 88,
   "id": "fcd8bca0-d3dc-43c3-a109-04d24553c376",
   "metadata": {},
   "outputs": [],
   "source": [
    "from collections import Counter #count word occurrences\n",
    "import pandas as pd"
   ]
  },
  {
   "cell_type": "code",
   "execution_count": 108,
   "id": "09def4e0-7b6e-47e5-af40-8a3d87116c8e",
   "metadata": {},
   "outputs": [],
   "source": [
    "file_path = r\"C:\\Users\\nafiz\\Downloads\\Processed_Reviews.csv\"  # Update this with the actual location\n",
    "df = pd.read_csv(file_path)"
   ]
  },
  {
   "cell_type": "code",
   "execution_count": 110,
   "id": "34341475-235f-4d01-a7c1-9cd1a7d3a74c",
   "metadata": {},
   "outputs": [],
   "source": [
    "tokenized_reviews = df['tokenized'].dropna().apply(eval)"
   ]
  },
  {
   "cell_type": "code",
   "execution_count": 112,
   "id": "f29003c9-c16c-4592-b1b1-264da594f2ca",
   "metadata": {},
   "outputs": [],
   "source": [
    "all_words = [word for review in tokenized_reviews for word in review]\n",
    "unique_words = list(set(all_words))"
   ]
  },
  {
   "cell_type": "code",
   "execution_count": 114,
   "id": "03912eda-e7c5-48cb-96b0-8e49d87748cb",
   "metadata": {},
   "outputs": [],
   "source": [
    "word_freq = Counter(all_words)\n",
    "sorted_word_freq = dict(sorted(word_freq.items(), key=lambda item: item[1],\n",
    "reverse=True))"
   ]
  },
  {
   "cell_type": "code",
   "execution_count": 116,
   "id": "f4d91080-4d5c-4034-8dcc-4c794573d013",
   "metadata": {},
   "outputs": [],
   "source": [
    "document_vectors = []\n",
    "for review in tokenized_reviews:\n",
    "    document_vector = [1 if word in review else 0 for word in sorted_word_freq.keys()]\n",
    "    document_vectors.append(document_vector)"
   ]
  },
  {
   "cell_type": "code",
   "execution_count": 118,
   "id": "d3fc4d18-354a-4cd6-997f-3d467685d081",
   "metadata": {},
   "outputs": [],
   "source": [
    "doc_vectors_df = pd.DataFrame(document_vectors, columns=sorted_word_freq.keys())"
   ]
  },
  {
   "cell_type": "code",
   "execution_count": 120,
   "id": "42239996-b06e-4d62-9aec-4c9f6b068db6",
   "metadata": {},
   "outputs": [],
   "source": [
    "doc_vectors_df.to_csv(\"document_vectors.csv\", index=False)"
   ]
  },
  {
   "cell_type": "code",
   "execution_count": 122,
   "id": "c16ec734-14fc-4a85-a41c-b14e00682289",
   "metadata": {},
   "outputs": [
    {
     "name": "stdout",
     "output_type": "stream",
     "text": [
      "Word Frequency Table:\n",
      "           Word  Frequency\n",
      "0       product          7\n",
      "1       quality          3\n",
      "2         great          2\n",
      "3       amazing          2\n",
      "4          love          2\n",
      "5       awesome          2\n",
      "6          work          2\n",
      "7     perfectly          2\n",
      "8          life          2\n",
      "9        expect          2\n",
      "10       arrive          1\n",
      "11         time          1\n",
      "12    packaging          1\n",
      "13        amaze          1\n",
      "14          buy          1\n",
      "15        phone          1\n",
      "16           hz          1\n",
      "17      display          1\n",
      "18      totally          1\n",
      "19        worth          1\n",
      "20          wow          1\n",
      "21          bit          1\n",
      "22    expensive          1\n",
      "23       laptop          1\n",
      "24         fine          1\n",
      "25        check          1\n",
      "26         full          1\n",
      "27       detail          1\n",
      "28     purchase          1\n",
      "29        happy          1\n",
      "30      battery          1\n",
      "31    excellent          1\n",
      "32       charge          1\n",
      "33        cable          1\n",
      "34        short          1\n",
      "35          can          1\n",
      "36          not          1\n",
      "37      believe          1\n",
      "38         good          1\n",
      "39         fast          1\n",
      "40     delivery          1\n",
      "41       honest          1\n",
      "42         much          1\n",
      "43           oh          1\n",
      "44          god          1\n",
      "45         best          1\n",
      "46         ever          1\n",
      "47          use          1\n",
      "48         shoe          1\n",
      "49  comfortable          1\n",
      "50          fit          1\n",
      "51       nicely          1\n",
      "52          jog          1\n"
     ]
    }
   ],
   "source": [
    "word_freq_df = pd.DataFrame(list(sorted_word_freq.items()), columns=[\"Word\",\n",
    "\"Frequency\"])\n",
    "print(\"Word Frequency Table:\")\n",
    "print(word_freq_df)"
   ]
  },
  {
   "cell_type": "markdown",
   "id": "dddbfceb-7fde-4f27-a1f8-f88932ead7d0",
   "metadata": {},
   "source": [
    "<h1> TD IDF IMPLEMENTATION </h1>"
   ]
  },
  {
   "cell_type": "code",
   "execution_count": 125,
   "id": "c21bb419-d3b9-4b7d-bcd9-b69fc20ee90d",
   "metadata": {},
   "outputs": [],
   "source": [
    "import pandas as pd\n",
    "import math # use for log function\n",
    "from collections import Counter"
   ]
  },
  {
   "cell_type": "code",
   "execution_count": 133,
   "id": "370fc426-d847-4e3a-9cdd-112738ee93b5",
   "metadata": {},
   "outputs": [],
   "source": [
    "file_path = r\"C:\\Users\\nafiz\\Downloads\\Processed_Reviews.csv\"  # Update this with the actual location\n",
    "df = pd.read_csv(file_path)"
   ]
  },
  {
   "cell_type": "code",
   "execution_count": 135,
   "id": "8e9aaf45-d106-4fb2-b4bd-80492e104638",
   "metadata": {},
   "outputs": [],
   "source": [
    "tokenized_reviews = df['tokenized'].dropna().apply(eval)"
   ]
  },
  {
   "cell_type": "code",
   "execution_count": 166,
   "id": "55d0c936-26f3-4ca4-96a2-fdb2acf0a7a4",
   "metadata": {},
   "outputs": [],
   "source": [
    "from collections import Counter\n",
    "\n",
    "def compute_tf(document):  \n",
    "    word_count = Counter(document)  \n",
    "    tf = {word: count / len(document) for word, count in word_count.items()}  \n",
    "    return tf  \n",
    "\n"
   ]
  },
  {
   "cell_type": "code",
   "execution_count": 168,
   "id": "b2ff6679-c95a-45b9-b7c1-d254824b6584",
   "metadata": {},
   "outputs": [],
   "source": [
    "import math\n",
    "\n",
    "def compute_idf(documents):  \n",
    "    N = len(documents)  # Total number of documents  \n",
    "    idf = {}  \n",
    "    all_words = set(word for doc in documents for word in doc)  # Unique words  \n",
    "\n",
    "    for word in all_words:  # <-- Fix indentation here\n",
    "        count = sum(1 for doc in documents if word in doc)  \n",
    "        idf[word] = math.log(N / count)  \n",
    "\n",
    "    return idf  # <-- Fix indentation here\n"
   ]
  },
  {
   "cell_type": "code",
   "execution_count": 170,
   "id": "d58a4b64-8cf2-4f3a-b35b-1591ade24c06",
   "metadata": {},
   "outputs": [],
   "source": [
    "def compute_tfidf(document, idf):  \n",
    "    tfidf = {}  \n",
    "    tf = compute_tf(document)  # Get TF values for the document  \n",
    "\n",
    "    for word, tf_value in tf.items():  \n",
    "        if word in idf:  # Check if IDF value exists for the word\n",
    "            tfidf[word] = tf_value * idf[word]  # Multiply TF and IDF  \n",
    "\n",
    "    return tfidf  \n"
   ]
  },
  {
   "cell_type": "code",
   "execution_count": 172,
   "id": "2d6dda3a-48ff-40d5-a047-d061b15886f0",
   "metadata": {},
   "outputs": [],
   "source": [
    "documents = tokenized_reviews.tolist()"
   ]
  },
  {
   "cell_type": "code",
   "execution_count": 174,
   "id": "04485ad3-8677-42d4-8dbb-0c1f954e1b9a",
   "metadata": {},
   "outputs": [],
   "source": [
    "tf_data = [compute_tf(doc) for doc in documents] \n",
    "tf_df = pd.DataFrame(tf_data).fillna(0) \n",
    "tf_df.to_csv(\"tf_scores.csv\", index=False)"
   ]
  },
  {
   "cell_type": "code",
   "execution_count": 176,
   "id": "d6fc0c28-bbc6-4542-8a25-976ee8281828",
   "metadata": {},
   "outputs": [],
   "source": [
    "idf = compute_idf(documents) \n",
    "idf_df = pd.DataFrame([idf]).fillna(0) \n",
    "idf_df.to_csv(\"idf_scores.csv\", index=False)"
   ]
  },
  {
   "cell_type": "code",
   "execution_count": 178,
   "id": "5c8cb294-c83d-48e6-a05b-7219785bf85e",
   "metadata": {},
   "outputs": [],
   "source": [
    "tfidf_data = [compute_tfidf(doc, idf) for doc in documents] \n",
    "tfidf_df = pd.DataFrame(tfidf_data).fillna(0) \n",
    "tfidf_df.to_csv(\"tfidf_scores.csv\", index=False) "
   ]
  },
  {
   "cell_type": "code",
   "execution_count": null,
   "id": "37a77dc4-ce26-42df-8be1-05b9b1128c16",
   "metadata": {},
   "outputs": [],
   "source": []
  },
  {
   "cell_type": "code",
   "execution_count": null,
   "id": "aeb53d81-878c-4d68-8d7e-1a6918b1b81a",
   "metadata": {},
   "outputs": [],
   "source": []
  }
 ],
 "metadata": {
  "kernelspec": {
   "display_name": "Python 3 (ipykernel)",
   "language": "python",
   "name": "python3"
  },
  "language_info": {
   "codemirror_mode": {
    "name": "ipython",
    "version": 3
   },
   "file_extension": ".py",
   "mimetype": "text/x-python",
   "name": "python",
   "nbconvert_exporter": "python",
   "pygments_lexer": "ipython3",
   "version": "3.12.4"
  }
 },
 "nbformat": 4,
 "nbformat_minor": 5
}
